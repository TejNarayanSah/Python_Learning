{
 "cells": [
  {
   "cell_type": "markdown",
   "id": "a1196401",
   "metadata": {},
   "source": [
    "# File Input/Output"
   ]
  },
  {
   "cell_type": "code",
   "execution_count": 1,
   "id": "9459a731",
   "metadata": {},
   "outputs": [],
   "source": [
    "# Python can be use to performe operations on a file. (read & write data)\n",
    "# types of all files\n",
    "# 1. text files: .txt, .docx, .log, etc\n",
    "# 2. Binary files: .mp4, .mov, .png, .jpeg, etc\n",
    "#All file in system level in bit form"
   ]
  },
  {
   "cell_type": "code",
   "execution_count": 2,
   "id": "80e87603",
   "metadata": {},
   "outputs": [],
   "source": [
    "# Open, Read & Close File\n",
    "# we have to open a file before reading or writing.\n",
    "\n",
    "# f=open(\"file_name\",\"mode\")\n",
    "\n",
    "# file_name --> simple.txt , demo.docx\n",
    "# mode --> r:read mode  w:write mode\n",
    "\n",
    "\n",
    "# data = f.read()  #bydefoult read mode\n",
    "# f.close()"
   ]
  },
  {
   "cell_type": "code",
   "execution_count": 3,
   "id": "4112d001",
   "metadata": {},
   "outputs": [
    {
     "name": "stdout",
     "output_type": "stream",
     "text": [
      "I am learning Python.\n",
      "\n",
      "Then move to ML\n"
     ]
    }
   ],
   "source": [
    "#Read mode\n",
    "\n",
    "f = open(\"demo.txt\", \"r\")\n",
    "\n",
    "# data = f.read()\n",
    "# print(data)\n",
    "# print(type(data)) #reads entire file\n",
    "\n",
    "# data = f.read(5)\n",
    "# print(data)\n",
    "\n",
    "line1 = f.readline() #reads one line at a time\n",
    "print(line1)\n",
    "line2 = f.readline()\n",
    "print(line2)\n",
    "\n",
    "f.close()"
   ]
  },
  {
   "cell_type": "code",
   "execution_count": 4,
   "id": "10d0e884",
   "metadata": {},
   "outputs": [],
   "source": [
    "# different mode\n",
    "# 'r':open for reading (defoult)\n",
    "#'w':open for writing, truncating the file\n",
    "#'x':creating a new file and open it for writing\n",
    "#'a':open for writing, appending to the end of the if it exists\n",
    "#'b':binary mode\n",
    "#'t':text mode(defoult)\n",
    "#'+':open a disk file for update (reading and writing)"
   ]
  },
  {
   "cell_type": "code",
   "execution_count": 5,
   "id": "29d4d1d1",
   "metadata": {},
   "outputs": [],
   "source": [
    "#write mode\n",
    "\n",
    "f=open(\"demo.txt\",\"w\")\n",
    "f.write(\"I am learning Python.\") #overwrites the entire file\n",
    "\n",
    "f.close()"
   ]
  },
  {
   "cell_type": "code",
   "execution_count": 6,
   "id": "078ecdb4",
   "metadata": {},
   "outputs": [],
   "source": [
    "#append mode\n",
    "\n",
    "\n",
    "f=open(\"demo.txt\",\"a\")\n",
    "f.write(\"\\nThen move to ML\")\n",
    "\n",
    "f.close()"
   ]
  },
  {
   "cell_type": "code",
   "execution_count": 7,
   "id": "90c765db",
   "metadata": {},
   "outputs": [],
   "source": [
    "# stackOverflow link:   https://stackoverflow.com/questions/1466000/difference-between-modes-a-a-w-w-and-r-in-built-in-open-function"
   ]
  },
  {
   "cell_type": "code",
   "execution_count": 8,
   "id": "f4e0a7a0",
   "metadata": {},
   "outputs": [
    {
     "name": "stdout",
     "output_type": "stream",
     "text": [
      "I am learning Python.\n",
      "Then move to ML\n"
     ]
    }
   ],
   "source": [
    "#  with syntex\n",
    "with open(\"demo.txt\", \"r\") as f:\n",
    "    data = f.read()\n",
    "    print(data)\n",
    "    \n",
    "#in with syntex automaticaly close"
   ]
  },
  {
   "cell_type": "code",
   "execution_count": 9,
   "id": "1d8c1b7f",
   "metadata": {},
   "outputs": [],
   "source": [
    "# deleting a file\n",
    "# using the os module\n",
    "# Module (like a code libary) is a file written by another programmer\n",
    "# that generaly has a function we can use.\n",
    "\n",
    "# import os\n",
    "\n",
    "# os.remove(\"fileName.txt\")"
   ]
  },
  {
   "cell_type": "code",
   "execution_count": 10,
   "id": "860dc7d7",
   "metadata": {},
   "outputs": [],
   "source": [
    "#create a new file \"pr.txt\"using python. Add the data\n",
    "f=open(\"pr.txt\",\"w\")\n",
    "f.write(\"Hi everyone\\nwe are learning file I/O\\nusing Python.\\nI like programing in Python\") #overwritethe entire file\n",
    "\n",
    "f.close()"
   ]
  },
  {
   "cell_type": "code",
   "execution_count": 11,
   "id": "9f6f7d53",
   "metadata": {},
   "outputs": [],
   "source": [
    "with open(\"demo1.txt\", \"w\") as f:\n",
    "    f.write(\"Hi everyone\\nwe are learning file I/O\\nusing Python.\\nI like programing in Python\")"
   ]
  },
  {
   "cell_type": "code",
   "execution_count": 17,
   "id": "05aa5e43",
   "metadata": {},
   "outputs": [
    {
     "name": "stdout",
     "output_type": "stream",
     "text": [
      "Hi everyone\n",
      "we are learning file I/O\n",
      "using java.\n",
      "I like programing in javathon\n"
     ]
    }
   ],
   "source": [
    "with open(\"demo1.txt\", \"r\") as f:\n",
    "    data = f.read()\n",
    "newData=data.replace(\"Python\",\"Java\")\n",
    "print(newData)\n",
    "\n",
    "with open(\"demo1.txt\",\"w\") as f:\n",
    "    f.write(newData)"
   ]
  },
  {
   "cell_type": "code",
   "execution_count": null,
   "id": "566bdd15",
   "metadata": {},
   "outputs": [],
   "source": []
  },
  {
   "cell_type": "code",
   "execution_count": null,
   "id": "4be5a14a",
   "metadata": {},
   "outputs": [],
   "source": []
  }
 ],
 "metadata": {
  "kernelspec": {
   "display_name": "Python 3 (ipykernel)",
   "language": "python",
   "name": "python3"
  },
  "language_info": {
   "codemirror_mode": {
    "name": "ipython",
    "version": 3
   },
   "file_extension": ".py",
   "mimetype": "text/x-python",
   "name": "python",
   "nbconvert_exporter": "python",
   "pygments_lexer": "ipython3",
   "version": "3.11.5"
  }
 },
 "nbformat": 4,
 "nbformat_minor": 5
}
