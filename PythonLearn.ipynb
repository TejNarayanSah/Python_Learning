{
 "cells": [
  {
   "cell_type": "code",
   "execution_count": 1,
   "id": "dcae0af2",
   "metadata": {},
   "outputs": [
    {
     "name": "stdout",
     "output_type": "stream",
     "text": [
      "Namaste Duniya!\n"
     ]
    }
   ],
   "source": [
    "#print function is use to print or display some thing in the screen \n",
    "# syntex with example \n",
    "print(\"Namaste Duniya!\") "
   ]
  },
  {
   "cell_type": "code",
   "execution_count": 2,
   "id": "cd129b13",
   "metadata": {},
   "outputs": [
    {
     "name": "stdout",
     "output_type": "stream",
     "text": [
      "Hi\n",
      "TN Sah\n",
      "Hi TN Sah\n",
      "23\n",
      "46\n",
      "408\n",
      "23\n"
     ]
    }
   ],
   "source": [
    "# python character set\n",
    "# -letter: A-Z , a-z\n",
    "# digit: 0-9\n",
    "# special symbols: +,-,/,*,etc\n",
    "# whitespace: blankspace, tab, carriage return, newline, formfeed\n",
    "# other character: python can process all ASCII and unicode character as part of data or literals\n",
    "print (\"Hi\")\n",
    "print (\"TN Sah\")\n",
    "print(\"Hi\" , \"TN Sah\") #comma is use to print 2 diffrent line in the same line that mean we can concatinet the stmt\n",
    "print(23)\n",
    "print (12+34) #we can able to arthamatic operation in print statement\n",
    "print (12*34)\n",
    "print(\"23\") #if we can use double quots or single quots in numirical valu then it acts as a string"
   ]
  },
  {
   "cell_type": "code",
   "execution_count": 3,
   "id": "3a3d1ebe",
   "metadata": {},
   "outputs": [
    {
     "name": "stdout",
     "output_type": "stream",
     "text": [
      "veriable value is : TN Sah 23 25.98\n",
      "my name is  TN Sah and age  23\n"
     ]
    }
   ],
   "source": [
    "# veriables: is a name given to a memory location in a program\n",
    "# syntex and example\n",
    "name = \"TN Sah\"\n",
    "age = 23\n",
    "bookPrice = 25.98\n",
    "print(\"veriable value is :\" , name , age , bookPrice)\n",
    "print (\"my name is \" , name ,\"and age \" , age)"
   ]
  },
  {
   "cell_type": "markdown",
   "id": "be352850",
   "metadata": {},
   "source": [
    "# Ruses for identifiers"
   ]
  },
  {
   "cell_type": "code",
   "execution_count": 4,
   "id": "8714fa0a",
   "metadata": {},
   "outputs": [],
   "source": [
    "# 1. identifiers can conbination of uppercase and lowercase letters, digits or an underscore(_). \n",
    "# so myVariable, variable_1, varibal_for_print all are valid python identifiers.\n",
    "# 2. An identifier can start with digits. So while varibal1 is valid, 1varibal is not valid.\n",
    "# 3. We can't use spaceial symbols like !, #, @, %, $, etc in our identifier.\n",
    "# 4. idntifier can be of any length.\n",
    "# but in general we can use simple short and mening full varival"
   ]
  },
  {
   "cell_type": "markdown",
   "id": "d9c9865b",
   "metadata": {},
   "source": [
    "# Data Types"
   ]
  },
  {
   "cell_type": "code",
   "execution_count": 5,
   "id": "f96b31f8",
   "metadata": {},
   "outputs": [
    {
     "name": "stdout",
     "output_type": "stream",
     "text": [
      "<class 'str'>\n",
      "<class 'int'>\n",
      "<class 'float'>\n"
     ]
    }
   ],
   "source": [
    " # To find the data type using keyword - type \n",
    "# syntax & example \n",
    "print (type(name))\n",
    "print (type(age))\n",
    "print (type(bookPrice))"
   ]
  },
  {
   "cell_type": "code",
   "execution_count": 6,
   "id": "4b443941",
   "metadata": {},
   "outputs": [
    {
     "name": "stdout",
     "output_type": "stream",
     "text": [
      "TN Sah test string\n"
     ]
    }
   ],
   "source": [
    "# in python datatype can be divide in 2 type \n",
    "# primary or primitive datatype\n",
    "# primary contane: integers, string, float, Boolean, None\n",
    "# exampe\n",
    "# string\n",
    "str = 'TN'\n",
    "str1 = \"Sah\"\n",
    "str2 = '''test string'''\n",
    "print (str, str1, str2)"
   ]
  },
  {
   "cell_type": "code",
   "execution_count": 7,
   "id": "bf02b42b",
   "metadata": {},
   "outputs": [
    {
     "name": "stdout",
     "output_type": "stream",
     "text": [
      "<class 'NoneType'>\n"
     ]
    }
   ],
   "source": [
    "# float canstor the floating value \n",
    "# boolean is store True and False valu remember in boolean T & F is capital letter\n",
    "# Nane is use to not store data, remember N is capital letter eg. \n",
    "rollNum = None\n",
    "print(type(rollNum))"
   ]
  },
  {
   "cell_type": "markdown",
   "id": "c615a4db",
   "metadata": {},
   "source": [
    "# Keywords"
   ]
  },
  {
   "cell_type": "code",
   "execution_count": 8,
   "id": "83cae744",
   "metadata": {},
   "outputs": [],
   "source": [
    "    # and            # else           # in             # return    \n",
    "    # as             # except         # is             # True\n",
    "    # assert         # finally        # lambda         # try\n",
    "    # break          # False          # nonlocal       # with\n",
    "    # class          # for            # None           # while\n",
    "    # continue       # from           # not            # yield \n",
    "    # def            # global         # or\n",
    "    # del            # if             # pass\n",
    "    # elif           # import         # raise"
   ]
  },
  {
   "cell_type": "code",
   "execution_count": 9,
   "id": "97e0614a",
   "metadata": {},
   "outputs": [
    {
     "name": "stdout",
     "output_type": "stream",
     "text": [
      "False\n",
      "None\n",
      "True\n",
      "and\n",
      "as\n",
      "assert\n",
      "async\n",
      "await\n",
      "break\n",
      "class\n",
      "continue\n",
      "def\n",
      "del\n",
      "elif\n",
      "else\n",
      "except\n",
      "finally\n",
      "for\n",
      "from\n",
      "global\n",
      "if\n",
      "import\n",
      "in\n",
      "is\n",
      "lambda\n",
      "nonlocal\n",
      "not\n",
      "or\n",
      "pass\n",
      "raise\n",
      "return\n",
      "try\n",
      "while\n",
      "with\n",
      "yield\n"
     ]
    }
   ],
   "source": [
    "# List of Python keywords\n",
    "keywords = [\n",
    "    'False', 'None', 'True', 'and', 'as', 'assert', 'async', 'await', 'break',\n",
    "    'class', 'continue', 'def', 'del', 'elif', 'else', 'except', 'finally',\n",
    "    'for', 'from', 'global', 'if', 'import', 'in', 'is', 'lambda', 'nonlocal',\n",
    "    'not', 'or', 'pass', 'raise', 'return', 'try', 'while', 'with', 'yield'\n",
    "]\n",
    "\n",
    "# Sort the keywords alphabetically\n",
    "sorted_keywords = sorted(keywords)\n",
    "\n",
    "# Print the sorted keywords\n",
    "for keyword in sorted_keywords:\n",
    "    print(keyword)"
   ]
  },
  {
   "cell_type": "markdown",
   "id": "fc9609ce",
   "metadata": {},
   "source": [
    "# Print Sum"
   ]
  },
  {
   "cell_type": "code",
   "execution_count": 10,
   "id": "25ef2c08",
   "metadata": {},
   "outputs": [
    {
     "name": "stdout",
     "output_type": "stream",
     "text": [
      "30300\n"
     ]
    }
   ],
   "source": [
    "# nun-primitive datatype eg oblecst, class, etc\n",
    "# leatn in next chapter or opps chapter\n",
    "\n",
    "# python is casesensitive\n",
    "\n",
    "# program to print sum\n",
    "\n",
    "a = 10200\n",
    "b = 20100\n",
    "sum = a + b\n",
    "print(sum)"
   ]
  },
  {
   "cell_type": "markdown",
   "id": "f39de8d2",
   "metadata": {},
   "source": [
    "# Operators in Python"
   ]
  },
  {
   "cell_type": "code",
   "execution_count": 11,
   "id": "4b601efe",
   "metadata": {},
   "outputs": [],
   "source": [
    "# Type of operators\n",
    "# An operators is a symbole that performes a certain operation between operands\n",
    "\n",
    "# Arthmatic operators(+,-,*,/,%,**)\n",
    "\n",
    "# Relational / Comparison operators(==,!=,<,>,<=,>=)\n",
    "\n",
    "# Assignment operators(=,+=,-=,*=,/=,%=,**=)\n",
    "\n",
    "# Logical operators(not,and,or)\n"
   ]
  },
  {
   "cell_type": "code",
   "execution_count": 12,
   "id": "1cc77a9f",
   "metadata": {},
   "outputs": [
    {
     "name": "stdout",
     "output_type": "stream",
     "text": [
      "8\n",
      "-2\n",
      "15\n",
      "0.6\n",
      "3\n",
      "243\n"
     ]
    }
   ],
   "source": [
    "# example of arthmatic\n",
    "a=3\n",
    "b=5\n",
    "print(a+b)\n",
    "print(a-b)\n",
    "print(a*b)\n",
    "print(a/b)\n",
    "print(a%b)\n",
    "print(a**b)"
   ]
  },
  {
   "cell_type": "code",
   "execution_count": 13,
   "id": "94b5cbd4",
   "metadata": {},
   "outputs": [
    {
     "name": "stdout",
     "output_type": "stream",
     "text": [
      "False\n",
      "False\n",
      "True\n",
      "True\n",
      "True\n"
     ]
    }
   ],
   "source": [
    "#example of relational\n",
    "print(a>b)\n",
    "print(a>=b)\n",
    "print(a<b)\n",
    "print(a<=b)\n",
    "print(a!=b)"
   ]
  },
  {
   "cell_type": "code",
   "execution_count": 14,
   "id": "d334a538",
   "metadata": {},
   "outputs": [
    {
     "name": "stdout",
     "output_type": "stream",
     "text": [
      "True\n",
      "False\n",
      "False\n",
      "True\n"
     ]
    }
   ],
   "source": [
    "# Logical operator\n",
    "c=True\n",
    "d=False\n",
    "print(c or d)\n",
    "print(c and d)\n",
    "print(not c)\n",
    "print(c or not d)"
   ]
  },
  {
   "cell_type": "markdown",
   "id": "e572d4d6",
   "metadata": {},
   "source": [
    "# Type Conversion"
   ]
  },
  {
   "cell_type": "code",
   "execution_count": 15,
   "id": "c67f9cf6",
   "metadata": {},
   "outputs": [
    {
     "name": "stdout",
     "output_type": "stream",
     "text": [
      "5.5\n"
     ]
    }
   ],
   "source": [
    "# python can automaticaly do in type conversion\n",
    "a=2\n",
    "b=3.5\n",
    "sum=a+b #implicity conversion done by python\n",
    "print(sum)"
   ]
  },
  {
   "cell_type": "markdown",
   "id": "ed1d8424",
   "metadata": {},
   "source": [
    "# Type casting"
   ]
  },
  {
   "cell_type": "code",
   "execution_count": 16,
   "id": "30925e70",
   "metadata": {},
   "outputs": [
    {
     "name": "stdout",
     "output_type": "stream",
     "text": [
      "8.4\n"
     ]
    }
   ],
   "source": [
    "a=\"3\"\n",
    "b=5.4\n",
    "print(float(a)+b)"
   ]
  },
  {
   "cell_type": "code",
   "execution_count": 17,
   "id": "ee7df285",
   "metadata": {},
   "outputs": [],
   "source": [
    "# python punctuator: are use to organize sentence structure in programming\n",
    "# (). {}, [], #, etc\n",
    "# -=, +=, *=, /=, =, etc\n",
    "# python is type language: it is implicity tupe language"
   ]
  },
  {
   "cell_type": "markdown",
   "id": "5240f0e6",
   "metadata": {},
   "source": [
    "# Expression Execution"
   ]
  },
  {
   "cell_type": "code",
   "execution_count": 18,
   "id": "8da2983a",
   "metadata": {},
   "outputs": [
    {
     "name": "stdout",
     "output_type": "stream",
     "text": [
      "@@@@@@\n"
     ]
    }
   ],
   "source": [
    "#string and numberic values can operate together with (repitation)\n",
    "A, B = 2, 3\n",
    "Txt = \"@\"\n",
    "print(2*Txt*3)"
   ]
  },
  {
   "cell_type": "code",
   "execution_count": 19,
   "id": "4337cc6a",
   "metadata": {},
   "outputs": [
    {
     "name": "stdout",
     "output_type": "stream",
     "text": [
      "2@2@2@\n"
     ]
    }
   ],
   "source": [
    "#string and string can operate with + (concatenation)\n",
    "C, D = \"2\", 3\n",
    "txt = \"@\"\n",
    "print((C+txt)*D)"
   ]
  },
  {
   "cell_type": "code",
   "execution_count": 20,
   "id": "097774b9",
   "metadata": {},
   "outputs": [
    {
     "name": "stdout",
     "output_type": "stream",
     "text": [
      "14\n"
     ]
    }
   ],
   "source": [
    "#Numerical values can operate with all arthamtic operaters\n",
    "a,b=2,3\n",
    "c=4\n",
    "print(a+b*c)"
   ]
  },
  {
   "cell_type": "code",
   "execution_count": 21,
   "id": "c5d56d04",
   "metadata": {},
   "outputs": [
    {
     "name": "stdout",
     "output_type": "stream",
     "text": [
      "8.68\n"
     ]
    }
   ],
   "source": [
    "#Arithmatic expression with integer and float will result in float\n",
    "d=4.34\n",
    "print(a*d)"
   ]
  },
  {
   "cell_type": "code",
   "execution_count": 22,
   "id": "13ebbfb3",
   "metadata": {},
   "outputs": [
    {
     "name": "stdout",
     "output_type": "stream",
     "text": [
      "0.6666666666666666\n"
     ]
    }
   ],
   "source": [
    "#Result of devision operator with integers will be float\n",
    "print(a/b)"
   ]
  },
  {
   "cell_type": "code",
   "execution_count": 23,
   "id": "93bfbab7",
   "metadata": {},
   "outputs": [
    {
     "name": "stdout",
     "output_type": "stream",
     "text": [
      "2.0 2.17\n"
     ]
    }
   ],
   "source": [
    "#integer division with float and int will given int displayed as float (it can give smallest int value)\n",
    "#integer division (//)\n",
    "f=d//a\n",
    "print(f, d/a)"
   ]
  },
  {
   "cell_type": "code",
   "execution_count": 24,
   "id": "3bc38119",
   "metadata": {},
   "outputs": [
    {
     "name": "stdout",
     "output_type": "stream",
     "text": [
      "2\n"
     ]
    }
   ],
   "source": [
    "#floor gives closest integer, which is lesser than or equal to the float value\n",
    "#Result of (A//B) is same as floor(A/B)\n",
    "a,b=12,5\n",
    "c=a//b\n",
    "print(c)"
   ]
  },
  {
   "cell_type": "code",
   "execution_count": 25,
   "id": "b8710715",
   "metadata": {},
   "outputs": [
    {
     "name": "stdout",
     "output_type": "stream",
     "text": [
      "-3\n"
     ]
    }
   ],
   "source": [
    "a,b=-12,5\n",
    "c=a//b\n",
    "print(c)"
   ]
  },
  {
   "cell_type": "code",
   "execution_count": 26,
   "id": "52f34a7b",
   "metadata": {},
   "outputs": [
    {
     "name": "stdout",
     "output_type": "stream",
     "text": [
      "2\n"
     ]
    }
   ],
   "source": [
    "a,b=-12,-5\n",
    "c=a//b\n",
    "print(c)"
   ]
  },
  {
   "cell_type": "code",
   "execution_count": 27,
   "id": "0edf160e",
   "metadata": {},
   "outputs": [
    {
     "name": "stdout",
     "output_type": "stream",
     "text": [
      "-3\n"
     ]
    }
   ],
   "source": [
    "a,b=12,-5\n",
    "c=a//b\n",
    "print(c)"
   ]
  },
  {
   "cell_type": "code",
   "execution_count": 28,
   "id": "736b5ee9",
   "metadata": {},
   "outputs": [
    {
     "name": "stdout",
     "output_type": "stream",
     "text": [
      "1\n"
     ]
    }
   ],
   "source": [
    "#Remainder is negative when denominator is negative\n",
    "a,b=5,2\n",
    "c=a%b\n",
    "print(c)"
   ]
  },
  {
   "cell_type": "code",
   "execution_count": 29,
   "id": "d5a05260",
   "metadata": {},
   "outputs": [
    {
     "name": "stdout",
     "output_type": "stream",
     "text": [
      "1\n"
     ]
    }
   ],
   "source": [
    "a,b=-5,2\n",
    "c=a%b\n",
    "print(c)"
   ]
  },
  {
   "cell_type": "code",
   "execution_count": 30,
   "id": "16e6e357",
   "metadata": {},
   "outputs": [
    {
     "name": "stdout",
     "output_type": "stream",
     "text": [
      "-1\n"
     ]
    }
   ],
   "source": [
    "a,b=-5,-2\n",
    "c=a%b\n",
    "print(c)"
   ]
  },
  {
   "cell_type": "code",
   "execution_count": 31,
   "id": "90c92d3e",
   "metadata": {},
   "outputs": [
    {
     "name": "stdout",
     "output_type": "stream",
     "text": [
      "-1\n"
     ]
    }
   ],
   "source": [
    "a,b=5,-2\n",
    "c=a%b\n",
    "print(c)"
   ]
  },
  {
   "cell_type": "markdown",
   "id": "8fd47eb0",
   "metadata": {},
   "source": [
    "# Comments in Python"
   ]
  },
  {
   "cell_type": "code",
   "execution_count": 32,
   "id": "68f666e1",
   "metadata": {},
   "outputs": [
    {
     "name": "stdout",
     "output_type": "stream",
     "text": [
      "Hello, world!\n"
     ]
    }
   ],
   "source": [
    "#single line comment\n",
    "\n",
    "'''\n",
    "This is a multiline comment.\n",
    "It can span multiple lines.\n",
    "These lines are not executed as code.\n",
    "it is not recomendeted\n",
    "'''\n",
    "\n",
    "print(\"Hello, world!\")"
   ]
  },
  {
   "cell_type": "markdown",
   "id": "e128f611",
   "metadata": {},
   "source": [
    "# input in Python\n"
   ]
  },
  {
   "cell_type": "code",
   "execution_count": 33,
   "id": "a4c76591",
   "metadata": {},
   "outputs": [
    {
     "name": "stdout",
     "output_type": "stream",
     "text": [
      "name is: TN Sah\n",
      "age is: 23\n",
      "Book Price is: 70.97\n",
      "My name is TN Sah and age 23 Book Price is 70.97\n"
     ]
    }
   ],
   "source": [
    "# input() statement is used to accept values (using keyword) from user\n",
    "#string input\n",
    "name=input(\"name is: \")\n",
    "#int input\n",
    "age=input(\"age is: \")\n",
    "# float input\n",
    "bookPrice=input(\"Book Price is: \")\n",
    "print(\"My name is\", name,\"and age\", age,\"Book Price is\", bookPrice)"
   ]
  },
  {
   "cell_type": "code",
   "execution_count": null,
   "id": "72b5a28c",
   "metadata": {},
   "outputs": [],
   "source": [
    " "
   ]
  }
 ],
 "metadata": {
  "kernelspec": {
   "display_name": "Python 3 (ipykernel)",
   "language": "python",
   "name": "python3"
  },
  "language_info": {
   "codemirror_mode": {
    "name": "ipython",
    "version": 3
   },
   "file_extension": ".py",
   "mimetype": "text/x-python",
   "name": "python",
   "nbconvert_exporter": "python",
   "pygments_lexer": "ipython3",
   "version": "3.11.5"
  }
 },
 "nbformat": 4,
 "nbformat_minor": 5
}
