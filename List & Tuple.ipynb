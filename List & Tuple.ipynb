{
 "cells": [
  {
   "cell_type": "markdown",
   "id": "79534689",
   "metadata": {},
   "source": [
    "# List & Tuple"
   ]
  },
  {
   "cell_type": "code",
   "execution_count": 1,
   "id": "eae59dd4",
   "metadata": {},
   "outputs": [
    {
     "name": "stdout",
     "output_type": "stream",
     "text": [
      "[84, 38, 28, 48, 94]\n",
      "84\n",
      "38\n",
      "<class 'list'>\n",
      "['Kamal', 84, 'Tikuliya']\n",
      "['TN Sah', 84, 'Tikuliya']\n"
     ]
    },
    {
     "data": {
      "text/plain": [
       "3"
      ]
     },
     "execution_count": 1,
     "metadata": {},
     "output_type": "execute_result"
    }
   ],
   "source": [
    "# A built in data type stores set of values\n",
    "# It can store elements of different type (integer, f;oat, string, etc)\n",
    "\n",
    "marks = [84,38,28,48,94] #marks[0],marks[1]...\n",
    "print(marks)\n",
    "print(marks[0])\n",
    "print(marks[1])\n",
    "print(type(marks))\n",
    "\n",
    "student=[\"Kamal\",84,\"Tikuliya\"] #student[0], student[1]...\n",
    "print(student)\n",
    "\n",
    "# Remamber\n",
    "# string --> immutable\n",
    "# list ---> muttable\n",
    "\n",
    "student[0]=\"TN Sah\" #Allowed in python\n",
    "print(student)\n",
    "len(student)"
   ]
  },
  {
   "cell_type": "markdown",
   "id": "bbc48aa9",
   "metadata": {},
   "source": [
    "# List Slicing"
   ]
  },
  {
   "cell_type": "code",
   "execution_count": 2,
   "id": "032bd928",
   "metadata": {},
   "outputs": [
    {
     "name": "stdout",
     "output_type": "stream",
     "text": [
      "[38, 38, 78]\n",
      "[97, 38, 38, 78]\n",
      "[38, 38, 78, 37, 94, 83, 93, 37]\n"
     ]
    },
    {
     "data": {
      "text/plain": [
       "[78, 37, 94, 83]"
      ]
     },
     "execution_count": 2,
     "metadata": {},
     "output_type": "execute_result"
    }
   ],
   "source": [
    "# similar to string slicing\n",
    "# list_name[stating_idx:ending_idx] #ending idx is not included\n",
    "\n",
    "mkr=[97,38,38,78,37,94,83,93,37]\n",
    "print(mkr[1:4])\n",
    "print(mkr[:4])\n",
    "print(mkr[1:])\n",
    "mkr[3:7]"
   ]
  },
  {
   "cell_type": "markdown",
   "id": "5f097fc6",
   "metadata": {},
   "source": [
    "# List Methods"
   ]
  },
  {
   "cell_type": "code",
   "execution_count": 3,
   "id": "d2d59bc4",
   "metadata": {},
   "outputs": [
    {
     "name": "stdout",
     "output_type": "stream",
     "text": [
      "[6, 5, 2, 6, 7, 3, 2, 8, 3, 10]\n",
      "['apple', 'banana', 'litchi']\n",
      "['litchi', 'banana', 'apple']\n",
      "[10, 8, 7, 6, 6, 5, 3, 3, 2, 2]\n",
      "[10, 8, 90, 7, 6, 6, 5, 3, 3, 2, 2]\n",
      "[6, 5, 2, 6, 7, 2, 8, 3]\n",
      "[6, 5, 2, 7, 2, 8, 3]\n"
     ]
    }
   ],
   "source": [
    "list1=[6,5,2,6,7,3,2,8,3]\n",
    "\n",
    "list1.append(10) #adds one element at the end and return Nane valu\n",
    "print(list1)\n",
    "\n",
    "list2=[\"banana\",\"litchi\",\"apple\"]\n",
    "\n",
    "list2.sort() #sorts in asscending order and return Nane valu\n",
    "print(list2)\n",
    "\n",
    "list2.reverse()\n",
    "print(list2)\n",
    "\n",
    "list1.sort(reverse=True)\n",
    "print(list1)\n",
    "\n",
    "# list1.insert(idx, el) #insert element at index\n",
    "list1.insert(2, 90)\n",
    "print(list1)\n",
    "\n",
    "list1=[6,5,2,6,7,3,2,8,3]\n",
    "\n",
    "list1.remove(3) #remove fist occurerrence of element\n",
    "print(list1)\n",
    "\n",
    "# list.pop(idx) #remove element at idx\n",
    "list1.pop(3)\n",
    "print(list1)"
   ]
  },
  {
   "cell_type": "markdown",
   "id": "36ac9d9b",
   "metadata": {},
   "source": [
    "# Tuple"
   ]
  },
  {
   "cell_type": "code",
   "execution_count": 4,
   "id": "2d2e6f14",
   "metadata": {},
   "outputs": [
    {
     "name": "stdout",
     "output_type": "stream",
     "text": [
      "(84, 45, 64, 34, 35)\n",
      "84\n",
      "<class 'tuple'>\n",
      "()\n",
      "<class 'tuple'>\n",
      "1\n",
      "<class 'int'>\n",
      "(1,)\n",
      "<class 'tuple'>\n"
     ]
    }
   ],
   "source": [
    "# A built in data type that lats us crate immutable sequence of valus (just like string)\n",
    "\n",
    "tup=(84,45,64,34,35) #tup[0], tup[1]...\n",
    "print(tup)\n",
    "print(tup[0])\n",
    "print(type(tup))\n",
    "\n",
    "# tup[0]=45 #NOT allowed in python\n",
    "\n",
    "tup1=() #It is a valid tuple\n",
    "print(tup1)\n",
    "print(type(tup1))\n",
    "\n",
    "tup21=(1) #python consider this value is int or other os we can use bello method\n",
    "print(tup21)\n",
    "print(type(tup21))\n",
    "\n",
    "tup2=(1,) #it is a correct weay to create single valu tuple ( in multivalu comma(,) is optional)\n",
    "print(tup2)\n",
    "print(type(tup2))"
   ]
  },
  {
   "cell_type": "markdown",
   "id": "d0c2aeb7",
   "metadata": {},
   "source": [
    "# Methods of tuple"
   ]
  },
  {
   "cell_type": "code",
   "execution_count": 5,
   "id": "5eb9f260",
   "metadata": {},
   "outputs": [
    {
     "name": "stdout",
     "output_type": "stream",
     "text": [
      "4\n",
      "3\n"
     ]
    }
   ],
   "source": [
    "tup=(5,2,5,6,7,2,6,3,6)\n",
    "\n",
    "print(tup.index(7)) #returns index of fist occurrence\n",
    "\n",
    "print(tup.count(6)) #conts total occurrence"
   ]
  },
  {
   "cell_type": "code",
   "execution_count": 6,
   "id": "2ca4f457",
   "metadata": {},
   "outputs": [],
   "source": [
    "# #WAP to take input from usr and create list\n",
    "# list=[]\n",
    "# list1=input(\"Enter name: \")\n",
    "# list2=input(\"Enter name: \")\n",
    "# list3=input(\"Enter name: \")\n",
    "# list.append(list1)\n",
    "# list.append(list2)\n",
    "# list.append(list3)\n",
    "# print(list)"
   ]
  },
  {
   "cell_type": "code",
   "execution_count": 18,
   "id": "7af15d70",
   "metadata": {},
   "outputs": [
    {
     "name": "stdout",
     "output_type": "stream",
     "text": [
      "[1, 2, 3, 2, 1]\n",
      "Palendrom\n"
     ]
    }
   ],
   "source": [
    "#WAP to check if list is palindrom or not\n",
    "\n",
    "list=[1,2,3,2,1]\n",
    "\n",
    "list1=list.copy()\n",
    "list1.reverse()\n",
    "print(list1)\n",
    "\n",
    "if(list == list1):\n",
    "    print(\"Palendrom\")\n",
    "else:\n",
    "    print(\"Not\")"
   ]
  },
  {
   "cell_type": "code",
   "execution_count": 20,
   "id": "785cd4e4",
   "metadata": {},
   "outputs": [
    {
     "name": "stdout",
     "output_type": "stream",
     "text": [
      "3\n"
     ]
    }
   ],
   "source": [
    "#WAP to count student wint grade \"A\" using tuple\n",
    "\n",
    "tup=(\"A\",\"D\",\"A\",\"B\",\"A\",\"C\")\n",
    "\n",
    "print(tup.count(\"A\"))"
   ]
  },
  {
   "cell_type": "code",
   "execution_count": null,
   "id": "23484530",
   "metadata": {},
   "outputs": [],
   "source": []
  }
 ],
 "metadata": {
  "kernelspec": {
   "display_name": "Python 3 (ipykernel)",
   "language": "python",
   "name": "python3"
  },
  "language_info": {
   "codemirror_mode": {
    "name": "ipython",
    "version": 3
   },
   "file_extension": ".py",
   "mimetype": "text/x-python",
   "name": "python",
   "nbconvert_exporter": "python",
   "pygments_lexer": "ipython3",
   "version": "3.11.5"
  }
 },
 "nbformat": 4,
 "nbformat_minor": 5
}
