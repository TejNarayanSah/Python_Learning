{
 "cells": [
  {
   "cell_type": "markdown",
   "id": "5aa67749",
   "metadata": {},
   "source": [
    "# Strings"
   ]
  },
  {
   "cell_type": "code",
   "execution_count": 1,
   "id": "d983a51e",
   "metadata": {},
   "outputs": [
    {
     "name": "stdout",
     "output_type": "stream",
     "text": [
      "this is a strings\n",
      "created byTN Sah\n",
      "17\n"
     ]
    }
   ],
   "source": [
    "# String is a data type stores a sequence of characters.\n",
    "\n",
    "# Basic Operations\n",
    "# concatenate: \"hello\"+\"world\" ---> \"helloworld\"\n",
    "\n",
    "# length of str: len(str)\n",
    "\n",
    "# example\n",
    "\n",
    "str=\"this is a strings\"\n",
    "str1='created by'\n",
    "str2=\"\"\"TN Sah\"\"\"\n",
    "\n",
    "print(str)\n",
    "print(str1+str2)\n",
    "\n",
    "print(len(str))"
   ]
  },
  {
   "cell_type": "markdown",
   "id": "95f9701c",
   "metadata": {},
   "source": [
    "# Escape sequence characters"
   ]
  },
  {
   "cell_type": "code",
   "execution_count": 2,
   "id": "7089216d",
   "metadata": {},
   "outputs": [],
   "source": [
    "# \\n ---> New line \n",
    "# \\t ---> Tabuler space"
   ]
  },
  {
   "cell_type": "markdown",
   "id": "e9495087",
   "metadata": {},
   "source": [
    "# Indexing"
   ]
  },
  {
   "cell_type": "code",
   "execution_count": 3,
   "id": "8c9482c0",
   "metadata": {},
   "outputs": [
    {
     "name": "stdout",
     "output_type": "stream",
     "text": [
      "M\n"
     ]
    }
   ],
   "source": [
    "str=\"My name is TN Sah\"\n",
    "print(str[0])\n",
    "\n",
    "# str[0]=\"t\" # NOt allowed"
   ]
  },
  {
   "cell_type": "markdown",
   "id": "6ffe2913",
   "metadata": {},
   "source": [
    "# slicing"
   ]
  },
  {
   "cell_type": "code",
   "execution_count": 4,
   "id": "1cc52653",
   "metadata": {},
   "outputs": [
    {
     "data": {
      "text/plain": [
       "'me'"
      ]
     },
     "execution_count": 4,
     "metadata": {},
     "output_type": "execute_result"
    }
   ],
   "source": [
    "#Accessing parts of a string\n",
    "# str[staring_idx:ending_idx] #ending idx is not included\n",
    "# str[:5]is same as str[0:5]\n",
    "# str[5:]is same as str[5:10]\n",
    "\n",
    "str[5:7]"
   ]
  },
  {
   "cell_type": "code",
   "execution_count": 5,
   "id": "02759b35",
   "metadata": {},
   "outputs": [],
   "source": [
    "# String Functions"
   ]
  },
  {
   "cell_type": "code",
   "execution_count": 6,
   "id": "08314b50",
   "metadata": {},
   "outputs": [
    {
     "data": {
      "text/plain": [
       "False"
      ]
     },
     "execution_count": 6,
     "metadata": {},
     "output_type": "execute_result"
    }
   ],
   "source": [
    "str=\"I am coder.\"\n",
    "str.endswith(\"er\") #return true if string ends with substr"
   ]
  },
  {
   "cell_type": "code",
   "execution_count": 7,
   "id": "38434a2f",
   "metadata": {},
   "outputs": [
    {
     "data": {
      "text/plain": [
       "'I am tn sah'"
      ]
     },
     "execution_count": 7,
     "metadata": {},
     "output_type": "execute_result"
    }
   ],
   "source": [
    "str=\"i am TN Sah\"\n",
    "str.capitalize() #capitalizes 1st char"
   ]
  },
  {
   "cell_type": "code",
   "execution_count": 8,
   "id": "62b8e913",
   "metadata": {},
   "outputs": [
    {
     "data": {
      "text/plain": [
       "'you is you'"
      ]
     },
     "execution_count": 8,
     "metadata": {},
     "output_type": "execute_result"
    }
   ],
   "source": [
    "str=\"tn is tn\"\n",
    "# str.replace(coder,student) #replaces all occurrences of old with new\n",
    "\n",
    "str.replace(\"tn\",\"you\") #replaces all occurrences of old with new"
   ]
  },
  {
   "cell_type": "code",
   "execution_count": 9,
   "id": "b94136f8",
   "metadata": {},
   "outputs": [
    {
     "data": {
      "text/plain": [
       "5"
      ]
     },
     "execution_count": 9,
     "metadata": {},
     "output_type": "execute_result"
    }
   ],
   "source": [
    "# str.find(word) #return 1st index od 1st occurence\n",
    "str=\"I am from amritsar study from python\"\n",
    "str.find(\"from\")"
   ]
  },
  {
   "cell_type": "code",
   "execution_count": 10,
   "id": "ed98cc1e",
   "metadata": {},
   "outputs": [
    {
     "data": {
      "text/plain": [
       "2"
      ]
     },
     "execution_count": 10,
     "metadata": {},
     "output_type": "execute_result"
    }
   ],
   "source": [
    "str.count(\"am\") #counts the occurrence of substr in string"
   ]
  },
  {
   "cell_type": "markdown",
   "id": "cc210187",
   "metadata": {},
   "source": [
    "# Practice Qs"
   ]
  },
  {
   "cell_type": "code",
   "execution_count": 11,
   "id": "0e30c726",
   "metadata": {},
   "outputs": [
    {
     "name": "stdout",
     "output_type": "stream",
     "text": [
      "Enter your first name:TN Sah\n",
      "your first name is TN Sah and length is 6\n"
     ]
    }
   ],
   "source": [
    "str=input(\"Enter your first name:\")\n",
    "print(\"your first name is\",str,\"and length is\",len(str))"
   ]
  },
  {
   "cell_type": "markdown",
   "id": "94857723",
   "metadata": {},
   "source": [
    "# Conditional Statements"
   ]
  },
  {
   "cell_type": "markdown",
   "id": "48afcb45",
   "metadata": {},
   "source": [
    "# "
   ]
  },
  {
   "cell_type": "code",
   "execution_count": 18,
   "id": "98b8c46d",
   "metadata": {},
   "outputs": [
    {
     "name": "stdout",
     "output_type": "stream",
     "text": [
      "You have gari\n"
     ]
    }
   ],
   "source": [
    "# # if-elif-else\n",
    "# if(condition):\n",
    "#     statement1\n",
    "# elif(condition):\n",
    "#         statement2\n",
    "# else:\n",
    "#     statementN\n",
    "\n",
    "age=26\n",
    "\n",
    "if(age>=18 and age<=24):\n",
    "    print(\"You can able to apply licence\")\n",
    "    print(\"you can vode\")\n",
    "elif(age>25):\n",
    "    print(\"You have gari\")\n",
    "else:\n",
    "    print(\"You are under 18\")"
   ]
  },
  {
   "cell_type": "code",
   "execution_count": 20,
   "id": "a1532c53",
   "metadata": {},
   "outputs": [
    {
     "name": "stdout",
     "output_type": "stream",
     "text": [
      "your grade is O\n"
     ]
    }
   ],
   "source": [
    "mark = 94\n",
    "\n",
    "if(mark >=90):\n",
    "    print(\"your grade is O\")\n",
    "elif(mark >= 80):\n",
    "    print(\"Your grade is A+\")\n",
    "elif(mark >= 70):\n",
    "    print(\"Your grade is A\")\n",
    "elif(mark >= 60):\n",
    "    print(\"Your grade is B+\")\n",
    "else:\n",
    "    print(\"Not good grade\")"
   ]
  },
  {
   "cell_type": "code",
   "execution_count": 24,
   "id": "bffe3f85",
   "metadata": {},
   "outputs": [
    {
     "name": "stdout",
     "output_type": "stream",
     "text": [
      "even no\n"
     ]
    }
   ],
   "source": [
    "#to check odd or even no.\n",
    "num=8\n",
    "\n",
    "if(num%2==0):\n",
    "    print(\"even no\")\n",
    "else:\n",
    "    print(\"odd no\")"
   ]
  },
  {
   "cell_type": "code",
   "execution_count": 37,
   "id": "c6139e1a",
   "metadata": {},
   "outputs": [
    {
     "name": "stdout",
     "output_type": "stream",
     "text": [
      "350\n"
     ]
    }
   ],
   "source": [
    "# to check greatest no.\n",
    "\n",
    "num1=60\n",
    "num2=350\n",
    "num3=120\n",
    "\n",
    "if(num1>num2 and num1>num3):\n",
    "    print(num1)\n",
    "elif(num2<num3):\n",
    "    print(num3)\n",
    "else:\n",
    "    print(num2)\n"
   ]
  },
  {
   "cell_type": "code",
   "execution_count": 30,
   "id": "734677e3",
   "metadata": {},
   "outputs": [
    {
     "name": "stdout",
     "output_type": "stream",
     "text": [
      "not\n"
     ]
    }
   ],
   "source": [
    "#to check multiple of 7  or not\n",
    "num =97\n",
    "if(num%7==0):\n",
    "    print(\"multiple\")\n",
    "else:\n",
    "    print(\"not\")"
   ]
  },
  {
   "cell_type": "code",
   "execution_count": null,
   "id": "6243c267",
   "metadata": {},
   "outputs": [],
   "source": []
  }
 ],
 "metadata": {
  "kernelspec": {
   "display_name": "Python 3 (ipykernel)",
   "language": "python",
   "name": "python3"
  },
  "language_info": {
   "codemirror_mode": {
    "name": "ipython",
    "version": 3
   },
   "file_extension": ".py",
   "mimetype": "text/x-python",
   "name": "python",
   "nbconvert_exporter": "python",
   "pygments_lexer": "ipython3",
   "version": "3.11.5"
  }
 },
 "nbformat": 4,
 "nbformat_minor": 5
}
