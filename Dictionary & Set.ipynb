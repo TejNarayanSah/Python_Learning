{
 "cells": [
  {
   "cell_type": "markdown",
   "id": "c6b73004",
   "metadata": {},
   "source": [
    "# Dictionary & Set"
   ]
  },
  {
   "cell_type": "code",
   "execution_count": 1,
   "id": "aaf239a1",
   "metadata": {},
   "outputs": [
    {
     "name": "stdout",
     "output_type": "stream",
     "text": [
      "{'name': 'TN Sah', 'U_rollNo': 2130314, 'city': 'Saptari', 'isAdult': True, 'age': 23, 'list': ['Python', 'A', 'java', 'A+'], 'tup': ('Dictionary', 'Set')} \n",
      "\n",
      "<class 'dict'>\n",
      "\n",
      " {'name': 'TN Sah', 'U_rollNo': 2130314, 'city': 'Saptari', 'isAdult': True, 'age': 23, 'list': ['Python', 'A', 'java', 'A+'], 'tup': ('Dictionary', 'Set'), 'pass': 2025} \n",
      "\n"
     ]
    }
   ],
   "source": [
    "#Dictionary in Puthon\n",
    "\n",
    "# Dictionaries are use to store data values in key:valu pairs\n",
    "# They are unoerdered, mutanle(changeable) & don't allow duplicate keys\n",
    "\n",
    "# Syntex\n",
    "# dict={\n",
    "#     \"name\":\"TN Sah\",\n",
    "#     \"U_rollNo\":2130314,\n",
    "#     \"city\":\"Saptari\"\n",
    "# }\n",
    "\n",
    "# dict[\"name\"],dict[\"U_rollNo\"],dict[\"city\"]\n",
    "# dict[\"key\"]=\"value\" #to assign or add new\n",
    "\n",
    "#dic ={} #to create null dictionary\n",
    "\n",
    "# Nested dictionary\n",
    "# dic = {\n",
    "#     dic1 = {\n",
    "#         \"key\":\"value\"\n",
    "#     }\n",
    "# }\n",
    "\n",
    "# Nested dictionary accesing method\n",
    "# print(dic[keyOfParent][keyOfChild])\n",
    "\n",
    "info = {\n",
    "    \"name\":\"TN Sah\",\n",
    "    \"U_rollNo\":2130314,\n",
    "    \"city\":\"Saptari\",\n",
    "    \"isAdult\":True,\n",
    "    \"age\":23,\n",
    "    \"list\": [\"Python\",\"A\",\"java\",\"A+\"],\n",
    "    \"tup\": (\"Dictionary\", \"Set\")\n",
    " #kry also use number , list , touple, etc   \n",
    "}\n",
    "\n",
    "print(info ,\"\\n\")\n",
    "print(type(info))\n",
    "\n",
    "info[\"name\"]\n",
    "\n",
    "info[\"pass\"]=2025\n",
    "\n",
    "print(\"\\n\", info ,\"\\n\")\n"
   ]
  },
  {
   "cell_type": "markdown",
   "id": "bd9b2607",
   "metadata": {},
   "source": [
    "# Dictionary Methods"
   ]
  },
  {
   "cell_type": "code",
   "execution_count": 2,
   "id": "7c279bb7",
   "metadata": {},
   "outputs": [
    {
     "name": "stdout",
     "output_type": "stream",
     "text": [
      "dict_keys(['name', 'U_rollNo', 'city', 'isAdult', 'age', 'list', 'tup', 'pass']) \n",
      "\n",
      "['name', 'U_rollNo', 'city', 'isAdult', 'age', 'list', 'tup', 'pass'] \n",
      "\n",
      "8 \n",
      "\n",
      "dict_values(['TN Sah', 2130314, 'Saptari', True, 23, ['Python', 'A', 'java', 'A+'], ('Dictionary', 'Set'), 2025]) \n",
      "\n",
      "dict_items([('name', 'TN Sah'), ('U_rollNo', 2130314), ('city', 'Saptari'), ('isAdult', True), ('age', 23), ('list', ['Python', 'A', 'java', 'A+']), ('tup', ('Dictionary', 'Set')), ('pass', 2025)]) \n",
      "\n",
      "None \n",
      "\n",
      "TN Sah \n",
      "\n",
      "{'name': 'TN Sah', 'U_rollNo': 2130314, 'city': 'Saptari', 'isAdult': True, 'age': 23, 'list': ['Python', 'A', 'java', 'A+'], 'tup': ('Dictionary', 'Set'), 'pass': 2025, 'class': 'c6'}\n"
     ]
    }
   ],
   "source": [
    "# myDict.keys() #return all keys\n",
    "# myDict.values() #return all the values\n",
    "# myDict.items() #return all(key,val) pairs as tuples\n",
    "# myDict.get(\"key\") #return the key according to value\n",
    "# myDict.update(newDict) #inserts the specified items to the dicional\n",
    "\n",
    "\n",
    "\n",
    "print(info.keys(),\"\\n\")\n",
    "\n",
    "print(list(info.keys()),\"\\n\") #we can also use type casting\n",
    "\n",
    "print(len(list(info.keys())),\"\\n\")\n",
    "\n",
    "print(info.values(),\"\\n\")\n",
    "print(info.items(),\"\\n\")\n",
    "# print(info[\"name2\"]) #It can give error\n",
    "print(info.get(\"name2\"),\"\\n\") #it can give error but give None\n",
    "print(info.get(\"name\"),\"\\n\")\n",
    "\n",
    "\n",
    "info.update({\"class\":\"c6\"})\n",
    "print(info)\n"
   ]
  },
  {
   "cell_type": "markdown",
   "id": "5e801456",
   "metadata": {},
   "source": [
    "# Set in Python"
   ]
  },
  {
   "cell_type": "code",
   "execution_count": 3,
   "id": "2c58c848",
   "metadata": {},
   "outputs": [
    {
     "name": "stdout",
     "output_type": "stream",
     "text": [
      "{1, 2, 3, 4, 5, 'sam', 6, 'rem'}\n",
      "{1, 2, 3, 4}\n"
     ]
    }
   ],
   "source": [
    "#Set is the collection of the unordered items.\n",
    "#Each element in the set must be unique & immutable.\n",
    "\n",
    "nums={1,2,\"rem\",3,4,\"sam\",5,6}\n",
    "\n",
    "set2 = {1,1,2,2,2,2,3,4}\n",
    "#repeated elements stored only onee, so it resolves to {1,2,3,4}\n",
    "\n",
    "# null_set = set() #empty set syntax\n",
    "\n",
    "# Note: boolean, int, float, str, tuple, etc can be store in set \n",
    "# but list and dictionary can to be store in set becouse it is mutable.\n",
    "\n",
    "\n",
    "print(nums)\n",
    "print(set2)"
   ]
  },
  {
   "cell_type": "markdown",
   "id": "876f0df1",
   "metadata": {},
   "source": [
    "# Set Methods"
   ]
  },
  {
   "cell_type": "code",
   "execution_count": 5,
   "id": "271db246",
   "metadata": {},
   "outputs": [
    {
     "name": "stdout",
     "output_type": "stream",
     "text": [
      "{1, 2, 3, 4, 5, 'sam', 6, 'sita', 'rem'} \n",
      "\n",
      "{1, 3, 4, 5, 'sam', 6, 'sita', 'rem'} \n",
      "\n",
      "{1, 3, 4, 5, 'sam', 6, 'rem'} \n",
      "\n",
      "1 \n",
      "\n",
      "{1, 2, 3, 4, 5, 'sam', 6, 'rem'} \n",
      "\n",
      "{3, 4} \n",
      "\n",
      "set() \n",
      "\n"
     ]
    }
   ],
   "source": [
    "# set.add(el) #adds an element\n",
    "# set.remove(el) #removes the element\n",
    "# set.clear() #empties the set\n",
    "# set.pop() #removes a random value\n",
    "# set.union(set2) #combines both set values & return new\n",
    "# set.intersection(set2) #combines common values & return new\n",
    "\n",
    "# sets is mutable but set element is not mutable.\n",
    "\n",
    "nums={1,2,\"rem\",3,4,\"sam\",5,6}\n",
    "set2 = {1,1,2,2,2,2,3,4}\n",
    "\n",
    "nums.add(\"sita\")\n",
    "nums.add(\"sita\")\n",
    "\n",
    "# nums.add([1,2,3]) #TypeError: unhashable type: 'list'\n",
    "\n",
    "\n",
    "print(nums,\"\\n\")\n",
    "\n",
    "nums.remove(2)\n",
    "print(nums,\"\\n\")\n",
    "\n",
    "nums.remove(\"sita\")\n",
    "print(nums,\"\\n\")\n",
    "\n",
    "print(nums.pop(),\"\\n\")\n",
    "\n",
    "print(nums.union(set2),\"\\n\")\n",
    "print(nums.intersection(set2),\"\\n\")\n",
    "\n",
    "nums.clear()\n",
    "print(nums,\"\\n\")"
   ]
  },
  {
   "cell_type": "code",
   "execution_count": null,
   "id": "9539ba9d",
   "metadata": {},
   "outputs": [],
   "source": []
  }
 ],
 "metadata": {
  "kernelspec": {
   "display_name": "Python 3 (ipykernel)",
   "language": "python",
   "name": "python3"
  },
  "language_info": {
   "codemirror_mode": {
    "name": "ipython",
    "version": 3
   },
   "file_extension": ".py",
   "mimetype": "text/x-python",
   "name": "python",
   "nbconvert_exporter": "python",
   "pygments_lexer": "ipython3",
   "version": "3.11.5"
  }
 },
 "nbformat": 4,
 "nbformat_minor": 5
}
