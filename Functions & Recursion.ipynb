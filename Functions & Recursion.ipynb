{
 "cells": [
  {
   "cell_type": "markdown",
   "id": "b2da10ca",
   "metadata": {},
   "source": [
    "# Functions & Recursion"
   ]
  },
  {
   "cell_type": "code",
   "execution_count": 1,
   "id": "8aa6330b",
   "metadata": {},
   "outputs": [
    {
     "name": "stdout",
     "output_type": "stream",
     "text": [
      "12\n",
      "8\n",
      "7293\n",
      "80\n"
     ]
    }
   ],
   "source": [
    "#Function in Python\n",
    "# Block of code/statement that perfone a specific task.\n",
    "\n",
    "# def fun_name(param1, param2, ...):  #function defination\n",
    "#     some work\n",
    "#     return value\n",
    "\n",
    "# fun_name(arg1, arg2,...) #function call\n",
    "\n",
    "def calSum(a,b):\n",
    "    return a+b\n",
    "\n",
    "sum = calSum(5,7)\n",
    "print(sum)\n",
    "\n",
    "sum = calSum(2,6)\n",
    "print(sum)\n",
    "\n",
    "sum = calSum(6,7287)\n",
    "print(sum)\n",
    "\n",
    "sum = calSum(73,7)\n",
    "print(sum)"
   ]
  },
  {
   "cell_type": "code",
   "execution_count": 2,
   "id": "a65845c5",
   "metadata": {},
   "outputs": [],
   "source": [
    "# In python 2 type of function\n",
    "# 1.Built-in function--->(print(), len(), type(), range(),etc)\n",
    "# 2.user defined function"
   ]
  },
  {
   "cell_type": "markdown",
   "id": "8114a028",
   "metadata": {},
   "source": [
    "# Recursion"
   ]
  },
  {
   "cell_type": "code",
   "execution_count": 7,
   "id": "deba276f",
   "metadata": {},
   "outputs": [
    {
     "name": "stdout",
     "output_type": "stream",
     "text": [
      "5\n",
      "4\n",
      "3\n",
      "2\n",
      "1\n"
     ]
    }
   ],
   "source": [
    "# when a function call itself repeatadly\n",
    "def show(n):\n",
    "    if(n==0):\n",
    "        return\n",
    "    print(n)\n",
    "    show(n-1)\n",
    "   \n",
    "show(5)"
   ]
  },
  {
   "cell_type": "code",
   "execution_count": 10,
   "id": "664e09d7",
   "metadata": {},
   "outputs": [
    {
     "data": {
      "text/plain": [
       "120"
      ]
     },
     "execution_count": 10,
     "metadata": {},
     "output_type": "execute_result"
    }
   ],
   "source": [
    "def fact(n):\n",
    "    if(n==0 or n==1):\n",
    "        return 1\n",
    "    else:\n",
    "        return n*fact(n-1)\n",
    "    \n",
    "fact(5)"
   ]
  },
  {
   "cell_type": "code",
   "execution_count": null,
   "id": "1c780225",
   "metadata": {},
   "outputs": [],
   "source": []
  }
 ],
 "metadata": {
  "kernelspec": {
   "display_name": "Python 3 (ipykernel)",
   "language": "python",
   "name": "python3"
  },
  "language_info": {
   "codemirror_mode": {
    "name": "ipython",
    "version": 3
   },
   "file_extension": ".py",
   "mimetype": "text/x-python",
   "name": "python",
   "nbconvert_exporter": "python",
   "pygments_lexer": "ipython3",
   "version": "3.11.5"
  }
 },
 "nbformat": 4,
 "nbformat_minor": 5
}
