{
 "cells": [
  {
   "cell_type": "markdown",
   "id": "ce525970",
   "metadata": {},
   "source": [
    "# OOPS"
   ]
  },
  {
   "cell_type": "code",
   "execution_count": 1,
   "id": "d8c1bec5",
   "metadata": {},
   "outputs": [
    {
     "name": "stdout",
     "output_type": "stream",
     "text": [
      "<class '__main__.Student'>\n",
      "kamal\n"
     ]
    }
   ],
   "source": [
    "# #oops in Python\n",
    "# To map with real world scenarios, we started using objects in code\n",
    "# This is called object oreanted programing\n",
    "\n",
    "#class is a blueprint for creating objects\n",
    "#creating class\n",
    "class Student:\n",
    "    name=\"kamal\"\n",
    "        \n",
    "#creating object(instance)\n",
    "s1 = Student()\n",
    "print(type(s1))\n",
    "print(s1.name)"
   ]
  },
  {
   "cell_type": "markdown",
   "id": "796ab624",
   "metadata": {},
   "source": [
    "# Constructor"
   ]
  },
  {
   "cell_type": "code",
   "execution_count": 2,
   "id": "499bde18",
   "metadata": {},
   "outputs": [
    {
     "name": "stdout",
     "output_type": "stream",
     "text": [
      "this is constructor\n",
      "kamal\n"
     ]
    }
   ],
   "source": [
    "# __init__ Function\n",
    "# All calsses have a function called __init__(), which is always executed when the class is being initiated.\n",
    "\n",
    "#creating calss\n",
    "class Student:\n",
    "    def __init__(self,fullname):\n",
    "        self.name = fullname\n",
    "        print(\"this is constructor\")\n",
    "        \n",
    "        \n",
    "#creating object\n",
    "s1 = Student(\"kamal\")\n",
    "print(s1.name)\n",
    "\n",
    "#The self parameter is a reference to the current\n",
    "# instance of the class, and is used to access variables\n",
    "# that belongs to the class"
   ]
  },
  {
   "cell_type": "code",
   "execution_count": 7,
   "id": "36f4c1d9",
   "metadata": {},
   "outputs": [
    {
     "name": "stdout",
     "output_type": "stream",
     "text": [
      "this is constructor\n",
      "GGI\n",
      "GGI\n",
      "kamal\n"
     ]
    }
   ],
   "source": [
    "#Class & Instance Attributes\n",
    "# class.attr\n",
    "# obj.attr\n",
    "\n",
    "#creating calss\n",
    "class Student:\n",
    "    college = \"GGI\"\n",
    "#     name =\"abc\"\n",
    "    def __init__(self,name, marks):\n",
    "        self.name = name\n",
    "        self.marks = marks\n",
    "        print(\"this is constructor\")\n",
    "        \n",
    "        \n",
    "#creating object\n",
    "s1 = Student(\"kamal\",87)\n",
    "\n",
    "print(Student.college)\n",
    "print(s1.college)\n",
    "print(s1.name)"
   ]
  },
  {
   "cell_type": "code",
   "execution_count": 26,
   "id": "b8ff65ec",
   "metadata": {},
   "outputs": [
    {
     "name": "stdout",
     "output_type": "stream",
     "text": [
      "this is constructor\n",
      "welcome kamal\n",
      "kamal\n"
     ]
    }
   ],
   "source": [
    "#Methods\n",
    "# Methods are functions that belong to objects.\n",
    "\n",
    "class Student:\n",
    "    def __init__(self,name, marks):\n",
    "        self.name = name\n",
    "        self.marks = marks\n",
    "        print(\"this is constructor\")\n",
    "    \n",
    "    def welcom(self):\n",
    "        print(\"welcome\", self.name)\n",
    "        \n",
    "    def get_mark(self):\n",
    "        return self.name\n",
    "        \n",
    "s1 = Student(\"kamal\",87)\n",
    "s1.welcom()\n",
    "print(s1.get_mark())\n"
   ]
  },
  {
   "cell_type": "code",
   "execution_count": null,
   "id": "72553137",
   "metadata": {},
   "outputs": [],
   "source": []
  }
 ],
 "metadata": {
  "kernelspec": {
   "display_name": "Python 3 (ipykernel)",
   "language": "python",
   "name": "python3"
  },
  "language_info": {
   "codemirror_mode": {
    "name": "ipython",
    "version": 3
   },
   "file_extension": ".py",
   "mimetype": "text/x-python",
   "name": "python",
   "nbconvert_exporter": "python",
   "pygments_lexer": "ipython3",
   "version": "3.11.5"
  }
 },
 "nbformat": 4,
 "nbformat_minor": 5
}
